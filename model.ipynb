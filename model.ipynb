{
 "cells": [
  {
   "cell_type": "markdown",
   "metadata": {},
   "source": [
    "# Setup"
   ]
  },
  {
   "cell_type": "code",
   "execution_count": null,
   "metadata": {},
   "outputs": [],
   "source": [
    "from processing import *\n",
    "from import_data import *\n",
    "from datetime import date\n",
    "\n",
    "import boto3\n",
    "import pandas as pd\n",
    "\n",
    "from sagemaker import get_execution_role\n",
    "from sagemaker.session import Session\n",
    "\n",
    "from sagemaker import KMeans\n",
    "from sagemaker.sklearn import SKLearn"
   ]
  },
  {
   "cell_type": "code",
   "execution_count": null,
   "metadata": {},
   "outputs": [],
   "source": [
    "role = get_execution_role()\n",
    "\n",
    "bucket = \"ressonance\"\n",
    "key = \"data/training_data\"\n",
    "region = boto3.Session().region_name"
   ]
  },
  {
   "cell_type": "code",
   "execution_count": null,
   "metadata": {},
   "outputs": [],
   "source": [
    "def upload_file(f):\n",
    "    boto3.Session() \\\n",
    "         .resource(\"s3\", region_name=region) \\\n",
    "         .Bucket(bucket) \\\n",
    "         .Object(key) \\\n",
    "         .upload_file(f)"
   ]
  },
  {
   "cell_type": "markdown",
   "metadata": {},
   "source": [
    "#  Step 1: Portfolio clustering"
   ]
  },
  {
   "cell_type": "code",
   "execution_count": null,
   "metadata": {},
   "outputs": [],
   "source": [
    "port_kmeans = KMeans(role=role,\n",
    "                     train_instance_count=2,\n",
    "                     train_instance_type=\"ml.c4.xlarge\",\n",
    "                     output_path=output_path+\"portfolio\",\n",
    "                     k=5,\n",
    "                     data_location=data_path+\"portfolios.csv\")"
   ]
  },
  {
   "cell_type": "code",
   "execution_count": null,
   "metadata": {},
   "outputs": [],
   "source": [
    "port_training = pd.read_csv(\"data/training_data/portfolios.csv\")\n",
    "\n",
    "port_kmeans.fit(port_kmeans.record_set(port_training))"
   ]
  },
  {
   "cell_type": "code",
   "execution_count": null,
   "metadata": {},
   "outputs": [],
   "source": [
    "port_predictor = port_kmeans.deploy(initial_instance_count=1,\n",
    "                                    instance_type=\"ml.m4.xlarge\")"
   ]
  },
  {
   "cell_type": "markdown",
   "metadata": {},
   "source": [
    "# Step 2: People"
   ]
  },
  {
   "cell_type": "markdown",
   "metadata": {},
   "source": [
    "## Substituting portfolios"
   ]
  },
  {
   "cell_type": "code",
   "execution_count": null,
   "metadata": {},
   "outputs": [],
   "source": [
    "clis = None\n",
    "clis_df = client_processing(clis)\n",
    "clis_df.portfolio = sub_port(clis_df.portfolio)\n",
    "\n",
    "clis_df.to_csv(key+\"clients.csv\")\n",
    "upload_file(key+\"clients.csv\")"
   ]
  },
  {
   "cell_type": "code",
   "execution_count": null,
   "metadata": {},
   "outputs": [],
   "source": [
    "cons = None\n",
    "cons_df = consultant_processing(cons)\n",
    "cons_df.portfolio = sub_port(cons_df.portfolio)\n",
    "\n",
    "cons_df.to_csv(key+\"consultants.csv\")\n",
    "upload_file(key+\"consultants.csv\")"
   ]
  },
  {
   "cell_type": "markdown",
   "metadata": {},
   "source": [
    "## Consultant clustering"
   ]
  },
  {
   "cell_type": "code",
   "execution_count": null,
   "metadata": {},
   "outputs": [],
   "source": [
    "cons_kmeans = KMeans(role=role,\n",
    "                     train_instance_count=2,\n",
    "                     train_instance_type=\"ml.c4.xlarge\",\n",
    "                     output_path=output_path+\"consultant\",\n",
    "                     k=5,\n",
    "                     data_location=data_path+\"consultants.csv\")"
   ]
  },
  {
   "cell_type": "code",
   "execution_count": null,
   "metadata": {},
   "outputs": [],
   "source": [
    "cons_kmeans.fit(cons_kmeans.record_set(cons_df))"
   ]
  },
  {
   "cell_type": "code",
   "execution_count": null,
   "metadata": {},
   "outputs": [],
   "source": [
    "cons_predictor = cons_kmeans.deploy(initial_instance_count=1,\n",
    "                                    instance_type=\"ml.m4.xlarge\")"
   ]
  },
  {
   "cell_type": "markdown",
   "metadata": {},
   "source": [
    "# Building Matcher"
   ]
  },
  {
   "cell_type": "markdown",
   "metadata": {},
   "source": [
    "## Interaction Formatting"
   ]
  },
  {
   "cell_type": "code",
   "execution_count": null,
   "metadata": {},
   "outputs": [],
   "source": [
    "inters = None\n",
    "inters_df = interaction_processing(inters)"
   ]
  },
  {
   "cell_type": "code",
   "execution_count": null,
   "metadata": {},
   "outputs": [],
   "source": [
    "inters_df.client.portfolio = sub_port(client_processing( \\\n",
    "                                        list(inters_df.client)).portfolio)\n",
    "\n",
    "inters_df.consultant.portfolio = sub_port(consultant_processing( \\\n",
    "                                            list(inters_df.consultant)).portfolio)"
   ]
  },
  {
   "cell_type": "code",
   "execution_count": null,
   "metadata": {},
   "outputs": [],
   "source": [
    "inters_df.consultant = cons_predictor(consultant_processing( \\\n",
    "                                        list(inters_df.consultant)))"
   ]
  },
  {
   "cell_type": "code",
   "execution_count": null,
   "metadata": {},
   "outputs": [],
   "source": [
    "inters_df.client.date_of_join = (pd.Timestamp(date.today) - inters_df.client.date_of_join).days"
   ]
  },
  {
   "cell_type": "code",
   "execution_count": null,
   "metadata": {},
   "outputs": [],
   "source": [
    "inters_df = pd.concat([inters_df.drop([\"client\", \n",
    "                                       \"duration\", \n",
    "                                       \"ongoing\", \n",
    "                                       \"n_transactions\"], axis=1), \n",
    "                       client_processing(list(inters_df.client.drop(([\"name\"]))))], axis=1)"
   ]
  },
  {
   "cell_type": "code",
   "execution_count": null,
   "metadata": {},
   "outputs": [],
   "source": [
    "inters_df.to_csv(key+\"interactions.csv\")\n",
    "\n",
    "upload_file(key+\"interactions.csv\")"
   ]
  },
  {
   "cell_type": "markdown",
   "metadata": {},
   "source": [
    "## Building Models"
   ]
  },
  {
   "cell_type": "code",
   "execution_count": null,
   "metadata": {},
   "outputs": [],
   "source": [
    "models = {}\n",
    "\n",
    "for name, df in inters_df.groupby(\"consultant\"):\n",
    "    \n",
    "    model = SKLearn(entry_point=\"training_scripts.py\",\n",
    "                    train_instance_type=\"ml.c4.xlarge\",\n",
    "                    role=role,\n",
    "                    sagemaker_session=sagemaker_session,\n",
    "                    hyperparameters={\"normalize\": True})\n",
    "\n",
    "    model_fit = model.fit({\"train\": df})\n",
    "    models[name] = model_fit.deploy(initial_instance_count=1,\n",
    "                                    instance_type=\"ml.m4.xlarge\")"
   ]
  }
 ],
 "metadata": {
  "kernelspec": {
   "display_name": "conda_python3",
   "language": "python",
   "name": "conda_python3"
  },
  "language_info": {
   "codemirror_mode": {
    "name": "ipython",
    "version": 3
   },
   "file_extension": ".py",
   "mimetype": "text/x-python",
   "name": "python",
   "nbconvert_exporter": "python",
   "pygments_lexer": "ipython3",
   "version": "3.6.5"
  }
 },
 "nbformat": 4,
 "nbformat_minor": 2
}
